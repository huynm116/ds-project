{
 "cells": [
  {
   "cell_type": "code",
   "execution_count": 1,
   "metadata": {},
   "outputs": [],
   "source": [
    "import pandas as pd\n",
    "\n",
    "movies = pd.read_csv('../cleaned_data/cleaned_movie_data.csv')\n",
    "ratings = pd.read_csv('../crawled_data/user_rating.csv')\n",
    "\n",
    "valid_movie_ids = set(ratings['movie_id'].unique())\n",
    "\n",
    "filtered_movies = movies[movies['movie_id'].isin(valid_movie_ids)]\n",
    "\n",
    "filtered_ratings = ratings[ratings['movie_id'].isin(filtered_movies['movie_id'])]\n",
    "\n",
    "filtered_movies.to_csv('../cleaned_data/movies_small.csv', index=False)\n",
    "filtered_ratings.to_csv('../cleaned_data/ratings_small.csv', index=False)\n"
   ]
  }
 ],
 "metadata": {
  "kernelspec": {
   "display_name": "ds",
   "language": "python",
   "name": "python3"
  },
  "language_info": {
   "codemirror_mode": {
    "name": "ipython",
    "version": 3
   },
   "file_extension": ".py",
   "mimetype": "text/x-python",
   "name": "python",
   "nbconvert_exporter": "python",
   "pygments_lexer": "ipython3",
   "version": "3.12.1"
  }
 },
 "nbformat": 4,
 "nbformat_minor": 2
}
