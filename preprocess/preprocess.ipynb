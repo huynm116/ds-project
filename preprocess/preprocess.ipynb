{
 "cells": [
  {
   "cell_type": "code",
   "execution_count": 1,
   "metadata": {},
   "outputs": [],
   "source": [
    "import pandas as pd"
   ]
  },
  {
   "cell_type": "code",
   "execution_count": 2,
   "metadata": {},
   "outputs": [
    {
     "name": "stderr",
     "output_type": "stream",
     "text": [
      "C:\\Users\\HIEPNT\\AppData\\Local\\Temp\\ipykernel_8784\\4213205943.py:1: DtypeWarning: Columns (2,10) have mixed types. Specify dtype option on import or set low_memory=False.\n",
      "  df = pd.read_csv('../crawled_data/movies_data.csv')\n"
     ]
    },
    {
     "data": {
      "text/html": [
       "<div>\n",
       "<style scoped>\n",
       "    .dataframe tbody tr th:only-of-type {\n",
       "        vertical-align: middle;\n",
       "    }\n",
       "\n",
       "    .dataframe tbody tr th {\n",
       "        vertical-align: top;\n",
       "    }\n",
       "\n",
       "    .dataframe thead th {\n",
       "        text-align: right;\n",
       "    }\n",
       "</style>\n",
       "<table border=\"1\" class=\"dataframe\">\n",
       "  <thead>\n",
       "    <tr style=\"text-align: right;\">\n",
       "      <th></th>\n",
       "      <th>title</th>\n",
       "      <th>img_url</th>\n",
       "      <th>year</th>\n",
       "      <th>director</th>\n",
       "      <th>stars</th>\n",
       "      <th>duration</th>\n",
       "      <th>genres</th>\n",
       "      <th>overview</th>\n",
       "      <th>rating</th>\n",
       "      <th>num_rating</th>\n",
       "      <th>num_user_review</th>\n",
       "      <th>num_critic_review</th>\n",
       "      <th>budget</th>\n",
       "      <th>gross</th>\n",
       "      <th>country</th>\n",
       "      <th>metascore</th>\n",
       "      <th>oscar</th>\n",
       "      <th>win_and_nomination</th>\n",
       "      <th>url</th>\n",
       "    </tr>\n",
       "  </thead>\n",
       "  <tbody>\n",
       "    <tr>\n",
       "      <th>0</th>\n",
       "      <td>The Godfather</td>\n",
       "      <td>https://m.media-amazon.com/images/M/MV5BM2MyNj...</td>\n",
       "      <td>1972</td>\n",
       "      <td>Francis Ford Coppola</td>\n",
       "      <td>Marlon Brando,Al Pacino,James Caan,Marlon Bran...</td>\n",
       "      <td>2h 55m</td>\n",
       "      <td>Crime,Drama</td>\n",
       "      <td>Don Vito Corleone, head of a mafia family, dec...</td>\n",
       "      <td>9.2</td>\n",
       "      <td>2M</td>\n",
       "      <td>5.3K</td>\n",
       "      <td>206.0</td>\n",
       "      <td>$6,000,000 (estimated)</td>\n",
       "      <td>$250,341,816</td>\n",
       "      <td>United States</td>\n",
       "      <td>100.0</td>\n",
       "      <td>Won 3 Oscars</td>\n",
       "      <td>30 wins &amp; 31 nominations total</td>\n",
       "      <td>https://www.imdb.com/title/tt0068646/?ref_=adv...</td>\n",
       "    </tr>\n",
       "    <tr>\n",
       "      <th>1</th>\n",
       "      <td>Interstellar</td>\n",
       "      <td>https://m.media-amazon.com/images/M/MV5BZjdkOT...</td>\n",
       "      <td>2014</td>\n",
       "      <td>Christopher Nolan</td>\n",
       "      <td>Matthew McConaughey,Anne Hathaway,Jessica Chas...</td>\n",
       "      <td>2h 49m</td>\n",
       "      <td>Adventure,Drama,Sci-Fi</td>\n",
       "      <td>When Earth becomes uninhabitable in the future...</td>\n",
       "      <td>8.7</td>\n",
       "      <td>2M</td>\n",
       "      <td>5.5K</td>\n",
       "      <td>486.0</td>\n",
       "      <td>$165,000,000 (estimated)</td>\n",
       "      <td>$703,170,837</td>\n",
       "      <td>United States</td>\n",
       "      <td>74.0</td>\n",
       "      <td>Won 1 Oscar</td>\n",
       "      <td>44 wins &amp; 148 nominations total</td>\n",
       "      <td>https://www.imdb.com/title/tt0816692/?ref_=adv...</td>\n",
       "    </tr>\n",
       "  </tbody>\n",
       "</table>\n",
       "</div>"
      ],
      "text/plain": [
       "           title                                            img_url  year  \\\n",
       "0  The Godfather  https://m.media-amazon.com/images/M/MV5BM2MyNj...  1972   \n",
       "1   Interstellar  https://m.media-amazon.com/images/M/MV5BZjdkOT...  2014   \n",
       "\n",
       "               director                                              stars  \\\n",
       "0  Francis Ford Coppola  Marlon Brando,Al Pacino,James Caan,Marlon Bran...   \n",
       "1     Christopher Nolan  Matthew McConaughey,Anne Hathaway,Jessica Chas...   \n",
       "\n",
       "  duration                  genres  \\\n",
       "0   2h 55m             Crime,Drama   \n",
       "1   2h 49m  Adventure,Drama,Sci-Fi   \n",
       "\n",
       "                                            overview  rating num_rating  \\\n",
       "0  Don Vito Corleone, head of a mafia family, dec...     9.2         2M   \n",
       "1  When Earth becomes uninhabitable in the future...     8.7         2M   \n",
       "\n",
       "  num_user_review  num_critic_review                    budget         gross  \\\n",
       "0            5.3K              206.0    $6,000,000 (estimated)  $250,341,816   \n",
       "1            5.5K              486.0  $165,000,000 (estimated)  $703,170,837   \n",
       "\n",
       "         country  metascore         oscar               win_and_nomination  \\\n",
       "0  United States      100.0  Won 3 Oscars   30 wins & 31 nominations total   \n",
       "1  United States       74.0   Won 1 Oscar  44 wins & 148 nominations total   \n",
       "\n",
       "                                                 url  \n",
       "0  https://www.imdb.com/title/tt0068646/?ref_=adv...  \n",
       "1  https://www.imdb.com/title/tt0816692/?ref_=adv...  "
      ]
     },
     "execution_count": 2,
     "metadata": {},
     "output_type": "execute_result"
    }
   ],
   "source": [
    "df = pd.read_csv('../crawled_data/movies_data.csv')\n",
    "df.head(2)"
   ]
  },
  {
   "cell_type": "code",
   "execution_count": 3,
   "metadata": {},
   "outputs": [
    {
     "name": "stdout",
     "output_type": "stream",
     "text": [
      "<class 'pandas.core.frame.DataFrame'>\n",
      "RangeIndex: 222169 entries, 0 to 222168\n",
      "Data columns (total 19 columns):\n",
      " #   Column              Non-Null Count   Dtype  \n",
      "---  ------              --------------   -----  \n",
      " 0   title               222169 non-null  object \n",
      " 1   img_url             222169 non-null  object \n",
      " 2   year                222169 non-null  object \n",
      " 3   director            206284 non-null  object \n",
      " 4   stars               191677 non-null  object \n",
      " 5   duration            145469 non-null  object \n",
      " 6   genres              180838 non-null  object \n",
      " 7   overview            116945 non-null  object \n",
      " 8   rating              98497 non-null   float64\n",
      " 9   num_rating          98497 non-null   object \n",
      " 10  num_user_review     53422 non-null   object \n",
      " 11  num_critic_review   20743 non-null   float64\n",
      " 12  budget              39387 non-null   object \n",
      " 13  gross               13026 non-null   object \n",
      " 14  country             217128 non-null  object \n",
      " 15  metascore           2080 non-null    float64\n",
      " 16  oscar               30172 non-null   object \n",
      " 17  win_and_nomination  30173 non-null   object \n",
      " 18  url                 222169 non-null  object \n",
      "dtypes: float64(3), object(16)\n",
      "memory usage: 32.2+ MB\n"
     ]
    }
   ],
   "source": [
    "df.info()"
   ]
  },
  {
   "cell_type": "code",
   "execution_count": 4,
   "metadata": {},
   "outputs": [],
   "source": [
    "# Ensure the 'year' column is of type str\n",
    "df['year'] = df['year'].astype(str)\n",
    "\n",
    "# Sort the DataFrame by 'year' in ascending order\n",
    "df = df.sort_values(by='year')"
   ]
  },
  {
   "cell_type": "code",
   "execution_count": 5,
   "metadata": {},
   "outputs": [
    {
     "name": "stdout",
     "output_type": "stream",
     "text": [
      "Null counts in each column:\n",
      "title                      0\n",
      "img_url                    0\n",
      "year                       0\n",
      "director               15885\n",
      "stars                  30492\n",
      "duration               76700\n",
      "genres                 41331\n",
      "overview              105224\n",
      "rating                123672\n",
      "num_rating            123672\n",
      "num_user_review       168747\n",
      "num_critic_review     201426\n",
      "budget                182782\n",
      "gross                 209143\n",
      "country                 5041\n",
      "metascore             220089\n",
      "oscar                 191997\n",
      "win_and_nomination    191996\n",
      "url                        0\n",
      "dtype: int64\n",
      "Number of movies before deletion: 222169\n",
      "Number of movies after deletion: 63737\n"
     ]
    }
   ],
   "source": [
    "# Đếm số lượng bộ phim có giá trị NULL (hoặc thiếu) trong mỗi trường\n",
    "null_counts = df.isnull().sum()\n",
    "\n",
    "# Hiển thị số lượng bộ phim có giá trị NULL trong từng trường\n",
    "print(\"Null counts in each column:\")\n",
    "print(null_counts)\n",
    "\n",
    "# Hiển thị số lượng bộ phim trước khi xóa bất kỳ\n",
    "num_movies_before_deletion = len(df)\n",
    "print(f\"Number of movies before deletion: {num_movies_before_deletion}\")\n",
    "\n",
    "# Xóa bất kỳ bộ phim nào có giá trị NULL trong các trường quan trọng\n",
    "important_columns = ['title', 'genres', 'rating', 'year', 'overview', 'duration']\n",
    "df = df.dropna(subset=important_columns)\n",
    "\n",
    "# Hiển thị số lượng bộ phim sau khi xóa\n",
    "num_movies_after_deletion = len(df)\n",
    "print(f\"Number of movies after deletion: {num_movies_after_deletion}\")"
   ]
  },
  {
   "cell_type": "code",
   "execution_count": 6,
   "metadata": {},
   "outputs": [
    {
     "data": {
      "text/plain": [
       "19"
      ]
     },
     "execution_count": 6,
     "metadata": {},
     "output_type": "execute_result"
    }
   ],
   "source": [
    "len(df.columns)"
   ]
  },
  {
   "cell_type": "code",
   "execution_count": 7,
   "metadata": {},
   "outputs": [],
   "source": [
    "# Define a function to convert 'K' and 'M' to integers\n",
    "def convert_to_int(value):\n",
    "    if 'K' in value:\n",
    "        return int(float(value.replace('K', '')) * 1000)\n",
    "    elif 'M' in value:\n",
    "        return int(float(value.replace('M', '')) * 1000000)\n",
    "    else:\n",
    "        return int(value)\n",
    "\n",
    "# Apply the function to convert 'num_rating' values to integers\n",
    "df['num_rating'] = df['num_rating'].apply(convert_to_int)"
   ]
  },
  {
   "cell_type": "code",
   "execution_count": 8,
   "metadata": {},
   "outputs": [],
   "source": [
    "# Lấy tất cả các giá trị duy nhất của cột 'year'\n",
    "unique_years = df['year'].unique()\n",
    "\n",
    "# xóa các giá trị không phải số trong cột 'year'\n",
    "df = df[df['year'].str.isnumeric()]\n",
    "\n",
    "# Chuyển cột 'year' thành kiểu dữ liệu số nguyên, bỏ .0\n",
    "df['year'] = df['year'].astype(int)"
   ]
  },
  {
   "cell_type": "code",
   "execution_count": 9,
   "metadata": {},
   "outputs": [],
   "source": [
    "# Define a function to convert 'duration' to minutes\n",
    "def convert_duration_to_minutes(duration_str):\n",
    "    parts = duration_str.split()\n",
    "    total_minutes = 0\n",
    "    for part in parts:\n",
    "        if 'h' in part:\n",
    "            total_minutes += int(part.strip('h')) * 60\n",
    "        elif 'm' in part:\n",
    "            total_minutes += int(part.strip('m'))\n",
    "    return total_minutes\n",
    "\n",
    "# Apply the function to convert 'duration' values to minutes\n",
    "df['duration'] = df['duration'].apply(convert_duration_to_minutes)"
   ]
  },
  {
   "cell_type": "code",
   "execution_count": 10,
   "metadata": {},
   "outputs": [],
   "source": [
    "# oscar count\n",
    "# Define a function to extract the number of Oscars won\n",
    "def extract_oscar_count(oscar_str):\n",
    "    if isinstance(oscar_str, str) and 'oscar' in oscar_str.lower() and 'won' in oscar_str.lower():\n",
    "        # Extract the number of Oscars won\n",
    "        words = oscar_str.split()\n",
    "        for i in range(len(words)):\n",
    "            if words[i].isdigit() and words[i + 1].lower() == 'oscar' and words[i - 1].lower() == 'won':\n",
    "                return int(words[i])\n",
    "    # If not 'won' and 'oscar' or no number found, return 0\n",
    "    return 0\n",
    "\n",
    "# Apply the function to convert 'oscar' values to the number of Oscars won\n",
    "df['oscar'] = df['oscar'].apply(extract_oscar_count)"
   ]
  },
  {
   "cell_type": "code",
   "execution_count": 11,
   "metadata": {},
   "outputs": [],
   "source": [
    "#budget processing\n",
    "df[\"budget\"] = df[\"budget\"].astype(str)\n",
    "df[\"budget\"] = df[\"budget\"].map(lambda x: x.rstrip(\" (estimated)\"))\n",
    "df[\"budget\"] = df[\"budget\"].map(lambda x: x.replace(\",\", \"\"))"
   ]
  },
  {
   "cell_type": "code",
   "execution_count": 12,
   "metadata": {},
   "outputs": [
    {
     "name": "stderr",
     "output_type": "stream",
     "text": [
      "<>:3: SyntaxWarning: invalid escape sequence '\\d'\n",
      "<>:4: SyntaxWarning: invalid escape sequence '\\D'\n",
      "<>:3: SyntaxWarning: invalid escape sequence '\\d'\n",
      "<>:4: SyntaxWarning: invalid escape sequence '\\D'\n",
      "C:\\Users\\HIEPNT\\AppData\\Local\\Temp\\ipykernel_8784\\2208822417.py:3: SyntaxWarning: invalid escape sequence '\\d'\n",
      "  df[\"estimated_budget\"] = df[\"budget\"].str.extract(\"(\\d+)\")\n",
      "C:\\Users\\HIEPNT\\AppData\\Local\\Temp\\ipykernel_8784\\2208822417.py:4: SyntaxWarning: invalid escape sequence '\\D'\n",
      "  df[\"budget_unit\"] = df[\"budget\"].str.extract(\"(\\D+)\")\n"
     ]
    }
   ],
   "source": [
    "# split digit part and character part\n",
    "\n",
    "df[\"estimated_budget\"] = df[\"budget\"].str.extract(\"(\\d+)\")\n",
    "df[\"budget_unit\"] = df[\"budget\"].str.extract(\"(\\D+)\")"
   ]
  },
  {
   "cell_type": "code",
   "execution_count": 13,
   "metadata": {},
   "outputs": [
    {
     "data": {
      "text/plain": [
       "array(['$', 'nan', 'DEM', '¥', 'NLG', 'RON', '₩', '£', 'AZM', 'CA$', '₱',\n",
       "       'CHF', 'DKK', 'FIM', 'PTE', 'ROL', 'ESP', 'SEK', '₹', 'PKR', 'EGP',\n",
       "       'FRF', 'A$', 'TRL', 'XAU', 'NZ$', 'GRD', 'ITL', 'CN¥', 'BEF',\n",
       "       'IDR', '€', 'NOK', 'MX$', 'LUF', 'IRR', 'RUR', 'HK$', 'THB', 'ZAR',\n",
       "       'SIT', 'HUF', 'ISK', 'LTL', 'R$', 'DOP', 'MYR', 'LKR', 'HRK',\n",
       "       'SGD', 'PLN', 'EEK', 'EC$', 'CZK', 'IEP', 'BGL', 'CLP', 'YUM',\n",
       "       'NT$', 'MMK', '₫', 'VEB', '₪', 'COP', 'SKK', 'BDT', 'MTL', 'ARS',\n",
       "       'GTQ', 'MVR', 'GEL', 'LVL', 'MAD', 'UAH', 'MOP', 'KZT', 'NPR',\n",
       "       'NGN', 'JOD', 'PEN', 'BHD', 'PYG', 'ANG', 'BTN', 'MNT', 'AED',\n",
       "       'TND', 'DZD', 'HNL', 'BAM', 'KPW', 'KES', 'GHC', 'RWF', 'MKD',\n",
       "       'UZS', 'UGX', 'LBP', 'AMD', 'CDF', 'ALL', 'FCFA', 'KWD'],\n",
       "      dtype=object)"
      ]
     },
     "execution_count": 13,
     "metadata": {},
     "output_type": "execute_result"
    }
   ],
   "source": [
    "# get all the unique values of budget_unit\n",
    "df[\"budget_unit\"].unique()\n",
    "# if there exist a \\xa0, replace it with a ' '\n",
    "df[\"budget_unit\"] = df[\"budget_unit\"].map(lambda x: x.replace(\"\\xa0\", \"\").replace(\"\\u202fCFA\", \"\"))\n",
    "df[\"budget_unit\"].unique()"
   ]
  },
  {
   "cell_type": "code",
   "execution_count": 14,
   "metadata": {},
   "outputs": [],
   "source": [
    "# Các đơn vị tiền tệ và tỷ lệ chuyển đổi sang đô la\n",
    "currency_conversion = {\n",
    "    '$': 1,    # Đô la Mỹ\n",
    "    'A$': 0.75,  # Đô la Úc\n",
    "    '£': 1.32,   # Bảng Anh\n",
    "    'SEK': 0.11,  # Krona Thụy Điển\n",
    "    'DKK': 0.16,  # Krone Đan Mạch\n",
    "    '₹': 0.014,  # Rupee Ấn Độ\n",
    "    '€': 1.18,   # Euro\n",
    "    'CA$': 0.75,  # Đô la Canada\n",
    "    'DEM': 0.61,  # Đức Mark\n",
    "    '¥': 0.007,    # Yên Nhật\n",
    "    'TRL': 0.13,  # Lira Thổ Nhĩ Kỳ\n",
    "    'R$': 0.19,   # Real\n",
    "    'CN¥': 0.15,  # Nhân dân tệ\n",
    "    'PLN': 0.27,  # Zloty Ba Lan\n",
    "    'FRF': 0.18,  # Pháp Franc\n",
    "    '₩': 0.00084, # Won Hàn Quốc\n",
    "    'FIM': 0.18,  # Markka Phần Lan\n",
    "    'RUR': 0.013, # Ruble Nga\n",
    "    'SGD': 0.74,  # Đô la Singapore\n",
    "    'HUF': 0.0034,# Forint Hungary\n",
    "    'NOK': 0.11,  # Krone Na Uy\n",
    "    'MX$': 0.049, # Peso Mexico\n",
    "    'NZ$': 0.69,  # Đô la New Zealand\n",
    "    'HK$': 0.13,  # Đô la Hồng Kông\n",
    "    'IDR': 0.000071, # Rupiah Indonesia\n",
    "    'ESP': 0.0066, # Peseta Tây Ban Nha\n",
    "    'ISK': 0.0079, # Króna Iceland\n",
    "    'CHF': 1.09,  # Franc Thụy Sĩ\n",
    "    'VEB': 0.0000000000000001, # Bolívar Venezuela\n",
    "    'ALL': 0.0094, # Lek Albania\n",
    "    'PKR': 0.0059, # Rupee Pakistan\n",
    "    'BEF': 0.031, # Franc Bỉ\n",
    "    'EGP': 0.064, # Bảng Ai Cập\n",
    "    'DOP': 0.017, # Peso Dominica\n",
    "    'ZAR': 0.067, # Rand Nam Phi\n",
    "    'NGN': 0.0026, # Naira Nigeria\n",
    "    'THB': 0.032, # Baht Thái Lan\n",
    "    'IRR': 0.000024, # Rial Iran\n",
    "    'LTL': 0.32, # Litas Litva\n",
    "    'BDT': 0.012, # Taka Bangladesh\n",
    "    'MYR': 0.24, # Ringgit Malaysia\n",
    "    'LKR': 0.0054, # Rupee Sri Lanka\n",
    "    'NT$': 0.035, # Đô la Đài Loan\n",
    "    'CZK': 0.044, # Koruna Cộng hòa Séc\n",
    "    'ARS': 0.011, # Peso Argentina\n",
    "    'GEL': 0.31, # Lari Georgia\n",
    "    'MNT': 0.00035, # Tugrik Mông Cổ\n",
    "    'UZS': 0.000095, # Som Uzbekistan\n",
    "    '₱': 0.021, # Peso Philipin\n",
    "    'NLG': 0.59, # Guilder Hà Lan\n",
    "    'ITL': 0.00061, # Lira Ý\n",
    "    'NAD': 0.067, # Đô la Namibia\n",
    "    'ROL': 0.00024, # Leu Rumani\n",
    "    'EEK': 0.075, # Kroon Estonia\n",
    "    'GTQ': 0.13, # Quetzal Guatemala\n",
    "    'HNL': 0.041, # Lempira Honduras\n",
    "    'XAU': 1.88, # Vàng\n",
    "    'AED': 0.27, # Dirham UAE\n",
    "    'COP': 0.00027, # Peso Colombia\n",
    "    'PEN': 0.29, # Sol Peru\n",
    "    'MOP': 0.12, # Pataca Ma Cao\n",
    "    'SIT': 0.0059, # Tolar Slovenia\n",
    "    'NPR': 0.0085, # Rupee Nepal\n",
    "    'PTE': 0.0059, # Escudo Bồ Đào Nha\n",
    "    '₪': 4.06,\n",
    "    'BGL': 0.61, # Lev Bulgaria\n",
    "    'MAD': 0.11, # Dirham Ma-rốc\n",
    "    'UAH': 0.037, # Hryvnia Ukraina\n",
    "    'MKD': 0.019, # Denar Macedonia\n",
    "    'KES': 0.0092, # Shilling Kenya\n",
    "    'HRK': 0.16, # Kuna Croatia\n",
    "    'KWD': 3.29, # Dinar Kuwait\n",
    "    'MMK': 0.00074, # Kyat Myanma\n",
    "    'KZT': 0.0024, # Tenge Kazakhstan\n",
    "    'AZM': 0.00012, # Manat Azerbaijan\n",
    "    'GHC': 0.00018, # Cedi Ghana\n",
    "    'JOD': 1.41, # Dinar Jordan\n",
    "    '₫': 0.000043, # Đồng Việt Nam\n",
    "    'ANG': 0.56, # Guilder Antille thuộc Hà Lan\n",
    "    'LVL': 1.59, # Lats Latvia\n",
    "    'MVR': 0.064, # Rufiyaa Maldives\n",
    "    'LUF': 0.031, # Franc Luxembourg\n",
    "    'UGX': 0.00027, # Shilling Uganda\n",
    "    'IQD': 0.00084, # Dinar Iraq\n",
    "    'GRD' : 0.0031, # Drachma Hy Lạp\n",
    "    'LYD' : 0.23, # Dinar Libya\n",
    "    'BYR' : 0.000041, # Ruble Belarus\n",
    "    'AMD' : 0.0021, # Dram Armenia\n",
    "    'TTD' : 0.15, # Đô la Trinidad và Tobago\n",
    "    'RON' : 0.24, # Leu Romania\n",
    "    'ATS' : 0.073, # Schilling Áo\n",
    "    'BAM' : 0.61, # Mark Bosnia và Herzegovina\n",
    "    'BSD' : 1, # Đô la Bahamas\n",
    "    'OMR' : 2.60, # Rial Oman\n",
    "    'CLP' : 0.0013, # Peso Chile\n",
    "    'BHD' : 2.65, # Dinar Bahrain\n",
    "    'SZL' : 0.067, # Lilangeni Swaziland\n",
    "    'KGS' : 0.012, # Som Kyrgyzstan\n",
    "    'ZMK' : 0.00011, # Kwacha Zambia\n",
    "    'SLL' : 0.00010, # Leone Sierra Leone\n",
    "    'TZS' : 0.00043, # Shilling Tanzania\n",
    "    'DZD' : 0.0074, # Dinar Algeria\n",
    "    'F' : 0.18, # Franc Pháp\n",
    "    'TND' : 0.37, # Dinar Tunisia\n",
    "    'CDF' : 0.00055, # Franc Congo\n",
    "    'KHR' : 0.00025, # Riel Campuchia\n",
    "    'AFA' : 0.014, # Afghani Afghanistan\n",
    "    'BTN' : 0.013, # Ngultrum Bhutan\n",
    "    'YUM' : 0.55, # Dinar Nam Tư\n",
    "    'ETB' : 0.018, # Birr Ethiopia\n",
    "    'CRC' : 0.0019, # Colón Costa Rica\n",
    "    'TMM' : 0.29, # Manat Turkmenistan\n",
    "    'QAR' : 0.27, # Rial Qatar\n",
    "    'SYP' : 0.00008, # Bảng Syria\n",
    "    'PYG' : 0.00015, # Guarani Paraguay\n",
    "    'MUR' : 0.022, # Rupee Mauritius\n",
    "    'FJD' : 0.45, # Đô la Fiji\n",
    "    'IEP' : 1.40, # Bảng Ireland\n",
    "    'SOS' : 0.0017, # Shilling Somalia\n",
    "    'CUP' : 0.038, # Peso Cuba\n",
    "    'SDD' : 0.0000166968, # Dinar Sudan\n",
    "    'ZWD' : 0.0029, # Đô la Zimbabwe\n",
    "    'EC$' : 0.37, # Đô la Đông Caribê\n",
    "    'UYU' : 0.023, # Peso Uruguay\n",
    "    'BOB' : 0.15, # Boliviano Bolivia\n",
    "    'LBP' : 0.00066, # Bảng Li-băng\n",
    "    'SKK' : 0.036, # Koruna Slovakia\n",
    "    'RWF' : 0.0010, # Franc Rwanda\n",
    "    'BIF' : 0.00052, # Franc Burundi\n",
    "    'JMD' : 0.0067, # Đô la Jamaica\n",
    "    'FCFA' : 0.0018, # Franc CFA Trung Phi\n",
    "    'MTL' : 0.00028, # Lira Malta\n",
    "    'KPW' : 0.0011, # Won Triều Tiên\n",
    "    'BBD'  : 0.50, # Đô la Barbados\n",
    "    'AWG' : 0.56, # Florin Aruba\n",
    "}\n",
    "\n",
    "def convert_budget_to_usd(row):\n",
    "    if row['budget_unit'] in currency_conversion:\n",
    "        # Convert the extracted budget to float and apply the exchange rate\n",
    "        return float(row['estimated_budget']) * currency_conversion[row['budget_unit']]\n",
    "    return float(row['estimated_budget'])\n",
    "\n",
    "# Apply the conversion function to create a 'budget_usd' column\n",
    "df[\"budget_unit\"].fillna('USD', inplace=True)  # Assuming missing units are USD\n",
    "df['budget_usd'] = df.apply(convert_budget_to_usd, axis=1)"
   ]
  },
  {
   "cell_type": "code",
   "execution_count": 15,
   "metadata": {},
   "outputs": [
    {
     "name": "stderr",
     "output_type": "stream",
     "text": [
      "<>:5: SyntaxWarning: invalid escape sequence '\\d'\n",
      "<>:6: SyntaxWarning: invalid escape sequence '\\D'\n",
      "<>:5: SyntaxWarning: invalid escape sequence '\\d'\n",
      "<>:6: SyntaxWarning: invalid escape sequence '\\D'\n",
      "C:\\Users\\HIEPNT\\AppData\\Local\\Temp\\ipykernel_8784\\2443639033.py:5: SyntaxWarning: invalid escape sequence '\\d'\n",
      "  df[\"estimated_gross\"] = df[\"gross\"].str.extract(\"(\\d+)\")\n",
      "C:\\Users\\HIEPNT\\AppData\\Local\\Temp\\ipykernel_8784\\2443639033.py:6: SyntaxWarning: invalid escape sequence '\\D'\n",
      "  df[\"gross_unit\"] = df[\"gross\"].str.extract(\"(\\D+)\")\n"
     ]
    }
   ],
   "source": [
    "#gross processing\n",
    "df[\"gross\"] = df[\"gross\"].astype(str)\n",
    "df[\"gross\"] = df[\"gross\"].map(lambda x: x.replace(\",\", \"\"))\n",
    "# split digit part and character part\n",
    "df[\"estimated_gross\"] = df[\"gross\"].str.extract(\"(\\d+)\")\n",
    "df[\"gross_unit\"] = df[\"gross\"].str.extract(\"(\\D+)\")"
   ]
  },
  {
   "cell_type": "code",
   "execution_count": 16,
   "metadata": {},
   "outputs": [
    {
     "data": {
      "text/plain": [
       "array(['$', 'nan', '€', '₹'], dtype=object)"
      ]
     },
     "execution_count": 16,
     "metadata": {},
     "output_type": "execute_result"
    }
   ],
   "source": [
    "# get all the unique values of budget_unit\n",
    "df[\"gross_unit\"].unique()\n",
    "# if there exist a \\xa0, replace it with a ' '\n",
    "df[\"gross_unit\"] = df[\"gross_unit\"].map(lambda x: x.replace(\"\\xa0\", \"\").replace(\"\\u202fCFA\", \"\"))\n",
    "df[\"gross_unit\"].unique()"
   ]
  },
  {
   "cell_type": "code",
   "execution_count": 17,
   "metadata": {},
   "outputs": [],
   "source": [
    "# Các đơn vị tiền tệ và tỷ lệ chuyển đổi sang đô la\n",
    "currency_conversion = {\n",
    "    '$': 1,    # Đô la Mỹ\n",
    "    '₹': 0.014,  # Rupee Ấn Độ\n",
    "    '€': 1.18,   # Euro\n",
    "}\n",
    "\n",
    "def convert_gross_to_usd(row):\n",
    "    if row['gross_unit'] in currency_conversion:\n",
    "        # Convert the extracted budget to float and apply the exchange rate\n",
    "        return float(row['estimated_gross']) * currency_conversion[row['gross_unit']]\n",
    "    return float(row['estimated_gross'])\n",
    "\n",
    "# Apply the conversion function to create a 'budget_usd' column\n",
    "df[\"gross_unit\"].fillna('USD', inplace=True)  # Assuming missing units are USD\n",
    "df['gross_usd'] = df.apply(convert_gross_to_usd, axis=1)"
   ]
  },
  {
   "cell_type": "code",
   "execution_count": 18,
   "metadata": {},
   "outputs": [],
   "source": [
    "# Extract wins and nominations and create new columns\n",
    "wins = df['win_and_nomination'].str.extract(r'(\\d+) wins?')\n",
    "nominations = df['win_and_nomination'].str.extract(r'(\\d+) nominations?')\n",
    "\n",
    "# Fill missing values with 0\n",
    "wins.fillna(0, inplace=True)\n",
    "nominations.fillna(0, inplace=True)\n",
    "\n",
    "# Add the extracted columns to the DataFrame\n",
    "df['win'] = wins\n",
    "df['nomination'] = nominations"
   ]
  },
  {
   "cell_type": "code",
   "execution_count": 19,
   "metadata": {},
   "outputs": [],
   "source": [
    "# url -> movie_id\n",
    "df['movie_id'] = df['url'].str.split('/').str[-2]"
   ]
  },
  {
   "cell_type": "code",
   "execution_count": 20,
   "metadata": {},
   "outputs": [],
   "source": [
    "# drop column budget_unit, gross_unit, win_and_nomination\n",
    "df = df.drop(['budget_unit', 'gross_unit', 'win_and_nomination'], axis=1)"
   ]
  },
  {
   "cell_type": "code",
   "execution_count": 21,
   "metadata": {},
   "outputs": [
    {
     "data": {
      "text/plain": [
       "0"
      ]
     },
     "execution_count": 21,
     "metadata": {},
     "output_type": "execute_result"
    }
   ],
   "source": [
    "# delete duplicate movies by movie_id\n",
    "df = df.drop_duplicates(subset=['movie_id'])\n",
    "# check if there is any duplicate movie_id\n",
    "df['movie_id'].duplicated().sum()"
   ]
  },
  {
   "cell_type": "code",
   "execution_count": 22,
   "metadata": {},
   "outputs": [],
   "source": [
    "df.drop(['url', 'budget', 'gross', 'estimated_budget','estimated_gross'], axis=1, inplace=True)"
   ]
  },
  {
   "cell_type": "code",
   "execution_count": 23,
   "metadata": {},
   "outputs": [],
   "source": [
    "# export data frame to csv and save in cleaned_data folder\n",
    "df.to_csv('../cleaned_data/cleaned_movie_data.csv', index=False)"
   ]
  }
 ],
 "metadata": {
  "kernelspec": {
   "display_name": "ds_env",
   "language": "python",
   "name": "python3"
  },
  "language_info": {
   "codemirror_mode": {
    "name": "ipython",
    "version": 3
   },
   "file_extension": ".py",
   "mimetype": "text/x-python",
   "name": "python",
   "nbconvert_exporter": "python",
   "pygments_lexer": "ipython3",
   "version": "3.12.1"
  }
 },
 "nbformat": 4,
 "nbformat_minor": 2
}
