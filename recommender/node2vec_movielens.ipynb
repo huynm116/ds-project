{
 "cells": [
  {
   "cell_type": "markdown",
   "metadata": {
    "colab_type": "text"
   },
   "source": [
    "# Graph representation learning with node2vec\n",
    "\n",
    "**Author:** [Khalid Salama](https://www.linkedin.com/in/khalid-salama-24403144/)<br>\n",
    "**Date created:** 2021/05/15<br>\n",
    "**Last modified:** 2021/05/15<br>\n",
    "**Description:** Implementing the node2vec model to generate embeddings for movies from the MovieLens dataset.\n"
   ]
  },
  {
   "cell_type": "markdown",
   "metadata": {
    "colab_type": "text"
   },
   "source": [
    "## Introduction\n",
    "\n",
    "Learning useful representations from objects structured as graphs is useful for\n",
    "a variety of machine learning (ML) applications—such as social and communication networks analysis,\n",
    "biomedicine studies, and recommendation systems.\n",
    "[Graph representation Learning](https://www.cs.mcgill.ca/~wlh/grl_book/) aims to\n",
    "learn embeddings for the graph nodes, which can be used for a variety of ML tasks\n",
    "such as node label prediction (e.g. categorizing an article based on its citations)\n",
    "and link prediction (e.g. recommending an interest group to a user in a social network).\n",
    "\n",
    "[node2vec](https://arxiv.org/abs/1607.00653) is a simple, yet scalable and effective\n",
    "technique for learning low-dimensional embeddings for nodes in a graph by optimizing\n",
    "a neighborhood-preserving objective. The aim is to learn similar embeddings for\n",
    "neighboring nodes, with respect to the graph structure.\n",
    "\n",
    "Given your data items structured as a graph (where the items are represented as\n",
    "nodes and the relationship between items are represented as edges),\n",
    "node2vec works as follows:\n",
    "\n",
    "1. Generate item sequences using (biased) random walk.\n",
    "2. Create positive and negative training examples from these sequences.\n",
    "3. Train a [word2vec](https://www.tensorflow.org/tutorials/text/word2vec) model\n",
    "   (skip-gram) to learn embeddings for the items.\n",
    "\n",
    "In this example, we demonstrate the node2vec technique on the\n",
    "[small version of the Movielens dataset](https://files.grouplens.org/datasets/movielens/ml-latest-small-README.html)\n",
    "to learn movie embeddings. Such a dataset can be represented as a graph by treating\n",
    "the movies as nodes, and creating edges between movies that have similar ratings\n",
    "by the users. The learnt movie embeddings can be used for tasks such as movie recommendation,\n",
    "or movie genres prediction.\n",
    "\n",
    "This example requires `networkx` package, which can be installed using the following command:\n",
    "\n",
    "```shell\n",
    "pip install networkx\n",
    "```\n"
   ]
  },
  {
   "cell_type": "markdown",
   "metadata": {
    "colab_type": "text"
   },
   "source": [
    "## Setup\n"
   ]
  },
  {
   "cell_type": "code",
   "execution_count": 1,
   "metadata": {
    "colab_type": "code"
   },
   "outputs": [
    {
     "name": "stderr",
     "output_type": "stream",
     "text": [
      "2023-10-27 21:48:03.129950: I tensorflow/core/platform/cpu_feature_guard.cc:182] This TensorFlow binary is optimized to use available CPU instructions in performance-critical operations.\n",
      "To enable the following instructions: SSE4.1 SSE4.2 AVX AVX2 AVX512F AVX512_VNNI FMA, in other operations, rebuild TensorFlow with the appropriate compiler flags.\n"
     ]
    }
   ],
   "source": [
    "import os\n",
    "from collections import defaultdict\n",
    "import math\n",
    "import networkx as nx\n",
    "import random\n",
    "from tqdm import tqdm\n",
    "from zipfile import ZipFile\n",
    "from urllib.request import urlretrieve\n",
    "import numpy as np\n",
    "import pandas as pd\n",
    "import tensorflow as tf\n",
    "from tensorflow import keras\n",
    "from tensorflow.keras import layers\n",
    "import matplotlib.pyplot as plt"
   ]
  },
  {
   "cell_type": "markdown",
   "metadata": {
    "colab_type": "text"
   },
   "source": [
    "## Download the MovieLens dataset and prepare the data\n",
    "\n",
    "The small version of the MovieLens dataset includes around 100k ratings\n",
    "from 610 users on 9,742 movies.\n",
    "\n",
    "First, let's download the dataset. The downloaded folder will contain\n",
    "three data files: `users.csv`, `movies.csv`, and `ratings.csv`. In this example,\n",
    "we will only need the `movies.dat`, and `ratings.dat` data files.\n"
   ]
  },
  {
   "cell_type": "code",
   "execution_count": 2,
   "metadata": {
    "colab_type": "code"
   },
   "outputs": [],
   "source": [
    "# urlretrieve(\n",
    "#     \"http://files.grouplens.org/datasets/movielens/ml-latest-small.zip\", \"movielens.zip\"\n",
    "# )\n",
    "# ZipFile(\"movielens.zip\", \"r\").extractall()"
   ]
  },
  {
   "cell_type": "markdown",
   "metadata": {
    "colab_type": "text"
   },
   "source": [
    "Then, we load the data into a Pandas DataFrame and perform some basic preprocessing.\n"
   ]
  },
  {
   "cell_type": "code",
   "execution_count": 3,
   "metadata": {
    "colab_type": "code"
   },
   "outputs": [
    {
     "name": "stderr",
     "output_type": "stream",
     "text": [
      "/tmp/ipykernel_22808/2512591164.py:2: DtypeWarning: Columns (3,11) have mixed types. Specify dtype option on import or set low_memory=False.\n",
      "  movies = pd.read_csv(\"../preprocessed_data/movies_data.csv\")\n"
     ]
    },
    {
     "name": "stdout",
     "output_type": "stream",
     "text": [
      "Movies data shape: (222169, 21)\n",
      "Ratings data shape: (996961, 3)\n"
     ]
    }
   ],
   "source": [
    "# Load movies to a DataFrame.\n",
    "movies = pd.read_csv(\"../preprocessed_data/movies_data.csv\")\n",
    "# Create a `movieId` string.\n",
    "# movies[\"movie_id\"] = movies[\"movie_id\"].apply(lambda x: f\"movie_{x}\")\n",
    "\n",
    "# Load ratings to a DataFrame.\n",
    "ratings = pd.read_csv(\"../crawled_data/user_rating.csv\")\n",
    "# Convert the `ratings` to floating point\n",
    "ratings[\"rating\"] = ratings[\"rating\"].apply(lambda x: float(x))\n",
    "# Create the `movie_id` string.\n",
    "# ratings[\"movie_id\"] = ratings[\"movie_id\"].apply(lambda x: f\"movie_{x}\")\n",
    "\n",
    "print(\"Movies data shape:\", movies.shape)\n",
    "print(\"Ratings data shape:\", ratings.shape)"
   ]
  },
  {
   "cell_type": "markdown",
   "metadata": {
    "colab_type": "text"
   },
   "source": [
    "Let's inspect a sample instance of the `ratings` DataFrame.\n"
   ]
  },
  {
   "cell_type": "code",
   "execution_count": 4,
   "metadata": {
    "colab_type": "code"
   },
   "outputs": [
    {
     "data": {
      "text/html": [
       "<div>\n",
       "<style scoped>\n",
       "    .dataframe tbody tr th:only-of-type {\n",
       "        vertical-align: middle;\n",
       "    }\n",
       "\n",
       "    .dataframe tbody tr th {\n",
       "        vertical-align: top;\n",
       "    }\n",
       "\n",
       "    .dataframe thead th {\n",
       "        text-align: right;\n",
       "    }\n",
       "</style>\n",
       "<table border=\"1\" class=\"dataframe\">\n",
       "  <thead>\n",
       "    <tr style=\"text-align: right;\">\n",
       "      <th></th>\n",
       "      <th>user_id</th>\n",
       "      <th>movie_id</th>\n",
       "      <th>rating</th>\n",
       "    </tr>\n",
       "  </thead>\n",
       "  <tbody>\n",
       "    <tr>\n",
       "      <th>0</th>\n",
       "      <td>ur2326544</td>\n",
       "      <td>tt0377092</td>\n",
       "      <td>9.0</td>\n",
       "    </tr>\n",
       "    <tr>\n",
       "      <th>1</th>\n",
       "      <td>ur34845698</td>\n",
       "      <td>tt0377092</td>\n",
       "      <td>7.0</td>\n",
       "    </tr>\n",
       "    <tr>\n",
       "      <th>2</th>\n",
       "      <td>ur61691810</td>\n",
       "      <td>tt0377092</td>\n",
       "      <td>8.0</td>\n",
       "    </tr>\n",
       "    <tr>\n",
       "      <th>3</th>\n",
       "      <td>ur3032446</td>\n",
       "      <td>tt0377092</td>\n",
       "      <td>8.0</td>\n",
       "    </tr>\n",
       "    <tr>\n",
       "      <th>4</th>\n",
       "      <td>ur1406078</td>\n",
       "      <td>tt0377092</td>\n",
       "      <td>7.0</td>\n",
       "    </tr>\n",
       "  </tbody>\n",
       "</table>\n",
       "</div>"
      ],
      "text/plain": [
       "      user_id   movie_id  rating\n",
       "0   ur2326544  tt0377092     9.0\n",
       "1  ur34845698  tt0377092     7.0\n",
       "2  ur61691810  tt0377092     8.0\n",
       "3   ur3032446  tt0377092     8.0\n",
       "4   ur1406078  tt0377092     7.0"
      ]
     },
     "execution_count": 4,
     "metadata": {},
     "output_type": "execute_result"
    }
   ],
   "source": [
    "ratings.head()"
   ]
  },
  {
   "cell_type": "markdown",
   "metadata": {
    "colab_type": "text"
   },
   "source": [
    "Next, let's check a sample instance of the `movies` DataFrame.\n"
   ]
  },
  {
   "cell_type": "code",
   "execution_count": 5,
   "metadata": {
    "colab_type": "code"
   },
   "outputs": [
    {
     "data": {
      "text/html": [
       "<div>\n",
       "<style scoped>\n",
       "    .dataframe tbody tr th:only-of-type {\n",
       "        vertical-align: middle;\n",
       "    }\n",
       "\n",
       "    .dataframe tbody tr th {\n",
       "        vertical-align: top;\n",
       "    }\n",
       "\n",
       "    .dataframe thead th {\n",
       "        text-align: right;\n",
       "    }\n",
       "</style>\n",
       "<table border=\"1\" class=\"dataframe\">\n",
       "  <thead>\n",
       "    <tr style=\"text-align: right;\">\n",
       "      <th></th>\n",
       "      <th>Unnamed: 0</th>\n",
       "      <th>title</th>\n",
       "      <th>img_url</th>\n",
       "      <th>year</th>\n",
       "      <th>director</th>\n",
       "      <th>stars</th>\n",
       "      <th>duration</th>\n",
       "      <th>genres</th>\n",
       "      <th>overview</th>\n",
       "      <th>rating</th>\n",
       "      <th>...</th>\n",
       "      <th>num_user_review</th>\n",
       "      <th>num_critic_review</th>\n",
       "      <th>budget</th>\n",
       "      <th>gross</th>\n",
       "      <th>country</th>\n",
       "      <th>metascore</th>\n",
       "      <th>oscar</th>\n",
       "      <th>win_and_nomination</th>\n",
       "      <th>url</th>\n",
       "      <th>movie_id</th>\n",
       "    </tr>\n",
       "  </thead>\n",
       "  <tbody>\n",
       "    <tr>\n",
       "      <th>0</th>\n",
       "      <td>0</td>\n",
       "      <td>The Godfather</td>\n",
       "      <td>https://m.media-amazon.com/images/M/MV5BM2MyNj...</td>\n",
       "      <td>1972</td>\n",
       "      <td>Francis Ford Coppola</td>\n",
       "      <td>Marlon Brando,Al Pacino,James Caan,Marlon Bran...</td>\n",
       "      <td>2h 55m</td>\n",
       "      <td>Crime,Drama</td>\n",
       "      <td>Don Vito Corleone, head of a mafia family, dec...</td>\n",
       "      <td>9.2</td>\n",
       "      <td>...</td>\n",
       "      <td>5.3K</td>\n",
       "      <td>206.0</td>\n",
       "      <td>$6,000,000 (estimated)</td>\n",
       "      <td>$250,341,816</td>\n",
       "      <td>United States</td>\n",
       "      <td>100.0</td>\n",
       "      <td>Won 3 Oscars</td>\n",
       "      <td>30 wins &amp; 31 nominations total</td>\n",
       "      <td>https://www.imdb.com/title/tt0068646/?ref_=adv...</td>\n",
       "      <td>tt0068646</td>\n",
       "    </tr>\n",
       "    <tr>\n",
       "      <th>1</th>\n",
       "      <td>1</td>\n",
       "      <td>Interstellar</td>\n",
       "      <td>https://m.media-amazon.com/images/M/MV5BZjdkOT...</td>\n",
       "      <td>2014</td>\n",
       "      <td>Christopher Nolan</td>\n",
       "      <td>Matthew McConaughey,Anne Hathaway,Jessica Chas...</td>\n",
       "      <td>2h 49m</td>\n",
       "      <td>Adventure,Drama,Sci-Fi</td>\n",
       "      <td>When Earth becomes uninhabitable in the future...</td>\n",
       "      <td>8.7</td>\n",
       "      <td>...</td>\n",
       "      <td>5.5K</td>\n",
       "      <td>486.0</td>\n",
       "      <td>$165,000,000 (estimated)</td>\n",
       "      <td>$703,170,837</td>\n",
       "      <td>United States</td>\n",
       "      <td>74.0</td>\n",
       "      <td>Won 1 Oscar</td>\n",
       "      <td>44 wins &amp; 148 nominations total</td>\n",
       "      <td>https://www.imdb.com/title/tt0816692/?ref_=adv...</td>\n",
       "      <td>tt0816692</td>\n",
       "    </tr>\n",
       "    <tr>\n",
       "      <th>2</th>\n",
       "      <td>2</td>\n",
       "      <td>Talk to Me</td>\n",
       "      <td>https://m.media-amazon.com/images/M/MV5BMmY5ZG...</td>\n",
       "      <td>2022</td>\n",
       "      <td>Danny Philippou</td>\n",
       "      <td>Ari McCarthy,Hamish Phillips,Kit Erhart-Bruce,...</td>\n",
       "      <td>1h 35m</td>\n",
       "      <td>Horror,Thriller</td>\n",
       "      <td>When a group of friends discover how to conjur...</td>\n",
       "      <td>7.2</td>\n",
       "      <td>...</td>\n",
       "      <td>485</td>\n",
       "      <td>251.0</td>\n",
       "      <td>$4,500,000 (estimated)</td>\n",
       "      <td>$90,030,033</td>\n",
       "      <td>Australia</td>\n",
       "      <td>76.0</td>\n",
       "      <td>NaN</td>\n",
       "      <td>NaN</td>\n",
       "      <td>https://www.imdb.com/title/tt10638522/?ref_=ad...</td>\n",
       "      <td>tt10638522</td>\n",
       "    </tr>\n",
       "    <tr>\n",
       "      <th>3</th>\n",
       "      <td>3</td>\n",
       "      <td>Practical Magic</td>\n",
       "      <td>https://m.media-amazon.com/images/M/MV5BMzU4Mm...</td>\n",
       "      <td>1998</td>\n",
       "      <td>Griffin Dunne</td>\n",
       "      <td>Sandra Bullock,Nicole Kidman,Stockard Channing...</td>\n",
       "      <td>1h 44m</td>\n",
       "      <td>Comedy,Drama,Fantasy</td>\n",
       "      <td>Two witch sisters, raised by their eccentric a...</td>\n",
       "      <td>6.3</td>\n",
       "      <td>...</td>\n",
       "      <td>313</td>\n",
       "      <td>81.0</td>\n",
       "      <td>$75,000,000 (estimated)</td>\n",
       "      <td>$46,733,235</td>\n",
       "      <td>United States</td>\n",
       "      <td>46.0</td>\n",
       "      <td>Awards</td>\n",
       "      <td>1 win &amp; 6 nominations</td>\n",
       "      <td>https://www.imdb.com/title/tt0120791/?ref_=adv...</td>\n",
       "      <td>tt0120791</td>\n",
       "    </tr>\n",
       "    <tr>\n",
       "      <th>4</th>\n",
       "      <td>4</td>\n",
       "      <td>Love</td>\n",
       "      <td>https://m.media-amazon.com/images/M/MV5BZGQxZT...</td>\n",
       "      <td>2015</td>\n",
       "      <td>Gaspar Noé</td>\n",
       "      <td>Aomi Muyock,Karl Glusman,Klara Kristin,Aomi Mu...</td>\n",
       "      <td>2h 15m</td>\n",
       "      <td>Drama,Romance</td>\n",
       "      <td>Murphy is an American living in Paris who ente...</td>\n",
       "      <td>6.1</td>\n",
       "      <td>...</td>\n",
       "      <td>177</td>\n",
       "      <td>200.0</td>\n",
       "      <td>$3,000,000 (estimated)</td>\n",
       "      <td>$861,057</td>\n",
       "      <td>France</td>\n",
       "      <td>51.0</td>\n",
       "      <td>Awards</td>\n",
       "      <td>2 wins &amp; 1 nomination</td>\n",
       "      <td>https://www.imdb.com/title/tt3774694/?ref_=adv...</td>\n",
       "      <td>tt3774694</td>\n",
       "    </tr>\n",
       "  </tbody>\n",
       "</table>\n",
       "<p>5 rows × 21 columns</p>\n",
       "</div>"
      ],
      "text/plain": [
       "   Unnamed: 0            title  \\\n",
       "0           0    The Godfather   \n",
       "1           1     Interstellar   \n",
       "2           2       Talk to Me   \n",
       "3           3  Practical Magic   \n",
       "4           4             Love   \n",
       "\n",
       "                                             img_url  year  \\\n",
       "0  https://m.media-amazon.com/images/M/MV5BM2MyNj...  1972   \n",
       "1  https://m.media-amazon.com/images/M/MV5BZjdkOT...  2014   \n",
       "2  https://m.media-amazon.com/images/M/MV5BMmY5ZG...  2022   \n",
       "3  https://m.media-amazon.com/images/M/MV5BMzU4Mm...  1998   \n",
       "4  https://m.media-amazon.com/images/M/MV5BZGQxZT...  2015   \n",
       "\n",
       "               director                                              stars  \\\n",
       "0  Francis Ford Coppola  Marlon Brando,Al Pacino,James Caan,Marlon Bran...   \n",
       "1     Christopher Nolan  Matthew McConaughey,Anne Hathaway,Jessica Chas...   \n",
       "2       Danny Philippou  Ari McCarthy,Hamish Phillips,Kit Erhart-Bruce,...   \n",
       "3         Griffin Dunne  Sandra Bullock,Nicole Kidman,Stockard Channing...   \n",
       "4            Gaspar Noé  Aomi Muyock,Karl Glusman,Klara Kristin,Aomi Mu...   \n",
       "\n",
       "  duration                  genres  \\\n",
       "0   2h 55m             Crime,Drama   \n",
       "1   2h 49m  Adventure,Drama,Sci-Fi   \n",
       "2   1h 35m         Horror,Thriller   \n",
       "3   1h 44m    Comedy,Drama,Fantasy   \n",
       "4   2h 15m           Drama,Romance   \n",
       "\n",
       "                                            overview  rating  ...  \\\n",
       "0  Don Vito Corleone, head of a mafia family, dec...     9.2  ...   \n",
       "1  When Earth becomes uninhabitable in the future...     8.7  ...   \n",
       "2  When a group of friends discover how to conjur...     7.2  ...   \n",
       "3  Two witch sisters, raised by their eccentric a...     6.3  ...   \n",
       "4  Murphy is an American living in Paris who ente...     6.1  ...   \n",
       "\n",
       "  num_user_review num_critic_review                    budget         gross  \\\n",
       "0            5.3K             206.0    $6,000,000 (estimated)  $250,341,816   \n",
       "1            5.5K             486.0  $165,000,000 (estimated)  $703,170,837   \n",
       "2             485             251.0    $4,500,000 (estimated)   $90,030,033   \n",
       "3             313              81.0   $75,000,000 (estimated)   $46,733,235   \n",
       "4             177             200.0    $3,000,000 (estimated)      $861,057   \n",
       "\n",
       "         country metascore         oscar               win_and_nomination  \\\n",
       "0  United States     100.0  Won 3 Oscars   30 wins & 31 nominations total   \n",
       "1  United States      74.0   Won 1 Oscar  44 wins & 148 nominations total   \n",
       "2      Australia      76.0           NaN                              NaN   \n",
       "3  United States      46.0        Awards            1 win & 6 nominations   \n",
       "4         France      51.0        Awards            2 wins & 1 nomination   \n",
       "\n",
       "                                                 url    movie_id  \n",
       "0  https://www.imdb.com/title/tt0068646/?ref_=adv...   tt0068646  \n",
       "1  https://www.imdb.com/title/tt0816692/?ref_=adv...   tt0816692  \n",
       "2  https://www.imdb.com/title/tt10638522/?ref_=ad...  tt10638522  \n",
       "3  https://www.imdb.com/title/tt0120791/?ref_=adv...   tt0120791  \n",
       "4  https://www.imdb.com/title/tt3774694/?ref_=adv...   tt3774694  \n",
       "\n",
       "[5 rows x 21 columns]"
      ]
     },
     "execution_count": 5,
     "metadata": {},
     "output_type": "execute_result"
    }
   ],
   "source": [
    "movies.head()"
   ]
  },
  {
   "cell_type": "markdown",
   "metadata": {
    "colab_type": "text"
   },
   "source": [
    "Implement two utility functions for the `movies` DataFrame.\n"
   ]
  },
  {
   "cell_type": "code",
   "execution_count": 6,
   "metadata": {
    "colab_type": "code"
   },
   "outputs": [],
   "source": [
    "\n",
    "def get_movie_title_by_id(movie_id):\n",
    "    return list(movies[movies.movie_id == movie_id].title)[0]\n",
    "\n",
    "\n",
    "def get_movie_id_by_title(title):\n",
    "    return list(movies[movies.title == title].movie_id)[0]"
   ]
  },
  {
   "cell_type": "markdown",
   "metadata": {
    "colab_type": "text"
   },
   "source": [
    "## Construct the Movies graph\n",
    "\n",
    "We create an edge between two movie nodes in the graph if both movies are rated\n",
    "by the same user >= `min_rating`. The weight of the edge will be based on the\n",
    "[pointwise mutual information](https://en.wikipedia.org/wiki/Pointwise_mutual_information)\n",
    "between the two movies, which is computed as: `log(xy) - log(x) - log(y) + log(D)`, where:\n",
    "\n",
    "- `xy` is how many users rated both movie `x` and movie `y` with >= `min_rating`.\n",
    "- `x` is how many users rated movie `x` >= `min_rating`.\n",
    "- `y` is how many users rated movie `y` >= `min_rating`.\n",
    "- `D` total number of movie ratings >= `min_rating`.\n"
   ]
  },
  {
   "cell_type": "markdown",
   "metadata": {
    "colab_type": "text"
   },
   "source": [
    "### Step 1: create the weighted edges between movies.\n"
   ]
  },
  {
   "cell_type": "code",
   "execution_count": 7,
   "metadata": {
    "colab_type": "code"
   },
   "outputs": [
    {
     "name": "stderr",
     "output_type": "stream",
     "text": [
      "Compute movie rating frequencies: 100%|██████████| 274532/274532 [09:05<00:00, 503.54it/s]  \n"
     ]
    }
   ],
   "source": [
    "min_rating = 5\n",
    "pair_frequency = defaultdict(int)\n",
    "item_frequency = defaultdict(int)\n",
    "\n",
    "# Filter instances where rating is greater than or equal to min_rating.\n",
    "rated_movies = ratings[ratings.rating >= min_rating]\n",
    "# Group instances by user.\n",
    "movies_grouped_by_users = list(rated_movies.groupby(\"user_id\"))\n",
    "for group in tqdm(\n",
    "    movies_grouped_by_users,\n",
    "    position=0,\n",
    "    leave=True,\n",
    "    desc=\"Compute movie rating frequencies\",\n",
    "):\n",
    "    # Get a list of movies rated by the user.\n",
    "    current_movies = list(group[1][\"movie_id\"])\n",
    "\n",
    "    for i in range(len(current_movies)):\n",
    "        item_frequency[current_movies[i]] += 1\n",
    "        for j in range(i + 1, len(current_movies)):\n",
    "            x = min(current_movies[i], current_movies[j])\n",
    "            y = max(current_movies[i], current_movies[j])\n",
    "            pair_frequency[(x, y)] += 1"
   ]
  },
  {
   "cell_type": "markdown",
   "metadata": {
    "colab_type": "text"
   },
   "source": [
    "### Step 2: create the graph with the nodes and the edges\n",
    "\n",
    "To reduce the number of edges between nodes, we only add an edge between movies\n",
    "if the weight of the edge is greater than `min_weight`.\n"
   ]
  },
  {
   "cell_type": "code",
   "execution_count": 8,
   "metadata": {
    "colab_type": "code"
   },
   "outputs": [
    {
     "name": "stderr",
     "output_type": "stream",
     "text": [
      "Creating the movie graph:   0%|          | 0/114216421 [00:00<?, ?it/s]"
     ]
    },
    {
     "name": "stderr",
     "output_type": "stream",
     "text": [
      "Creating the movie graph: 100%|██████████| 114216421/114216421 [13:42<00:00, 138938.71it/s]\n"
     ]
    }
   ],
   "source": [
    "min_weight = 10\n",
    "D = math.log(sum(item_frequency.values()))\n",
    "\n",
    "# Create the movies undirected graph.\n",
    "movies_graph = nx.Graph()\n",
    "# Add weighted edges between movies.\n",
    "# This automatically adds the movie nodes to the graph.\n",
    "for pair in tqdm(\n",
    "    pair_frequency, position=0, leave=True, desc=\"Creating the movie graph\"\n",
    "):\n",
    "    x, y = pair\n",
    "    xy_frequency = pair_frequency[pair]\n",
    "    x_frequency = item_frequency[x]\n",
    "    y_frequency = item_frequency[y]\n",
    "    pmi = math.log(xy_frequency) - math.log(x_frequency) - \\\n",
    "        math.log(y_frequency) + D\n",
    "    weight = pmi * xy_frequency\n",
    "    # Only include edges with weight >= min_weight.\n",
    "    if weight >= min_weight:\n",
    "        movies_graph.add_edge(x, y, weight=weight)"
   ]
  },
  {
   "cell_type": "markdown",
   "metadata": {
    "colab_type": "text"
   },
   "source": [
    "Let's display the total number of nodes and edges in the graph.\n",
    "Note that the number of nodes is less than the total number of movies,\n",
    "since only the movies that have edges to other movies are added.\n"
   ]
  },
  {
   "cell_type": "code",
   "execution_count": 9,
   "metadata": {
    "colab_type": "code"
   },
   "outputs": [
    {
     "name": "stdout",
     "output_type": "stream",
     "text": [
      "Total number of graph nodes: 92888\n",
      "Total number of graph edges: 31011301\n"
     ]
    }
   ],
   "source": [
    "print(\"Total number of graph nodes:\", movies_graph.number_of_nodes())\n",
    "print(\"Total number of graph edges:\", movies_graph.number_of_edges())"
   ]
  },
  {
   "cell_type": "markdown",
   "metadata": {
    "colab_type": "text"
   },
   "source": [
    "Let's display the average node degree (number of neighbours) in the graph.\n"
   ]
  },
  {
   "cell_type": "code",
   "execution_count": 10,
   "metadata": {
    "colab_type": "code"
   },
   "outputs": [
    {
     "name": "stdout",
     "output_type": "stream",
     "text": [
      "Average node degree: 667.71\n"
     ]
    }
   ],
   "source": [
    "degrees = []\n",
    "for node in movies_graph.nodes:\n",
    "    degrees.append(movies_graph.degree[node])\n",
    "\n",
    "print(\"Average node degree:\", round(sum(degrees) / len(degrees), 2))"
   ]
  },
  {
   "cell_type": "markdown",
   "metadata": {
    "colab_type": "text"
   },
   "source": [
    "### Step 3: Create vocabulary and a mapping from tokens to integer indices\n",
    "\n",
    "The vocabulary is the nodes (movie IDs) in the graph.\n"
   ]
  },
  {
   "cell_type": "code",
   "execution_count": 11,
   "metadata": {
    "colab_type": "code"
   },
   "outputs": [],
   "source": [
    "vocabulary = [\"NA\"] + list(movies_graph.nodes)\n",
    "vocabulary_lookup = {token: idx for idx, token in enumerate(vocabulary)}"
   ]
  },
  {
   "cell_type": "markdown",
   "metadata": {
    "colab_type": "text"
   },
   "source": [
    "## Implement the biased random walk\n",
    "\n",
    "A random walk starts from a given node, and randomly picks a neighbour node to move to.\n",
    "If the edges are weighted, the neighbour is selected _probabilistically_ with\n",
    "respect to weights of the edges between the current node and its neighbours.\n",
    "This procedure is repeated for `num_steps` to generate a sequence of _related_ nodes.\n",
    "\n",
    "The [_biased_ random walk](https://en.wikipedia.org/wiki/Biased_random_walk_on_a_graph) balances between **breadth-first sampling**\n",
    "(where only local neighbours are visited) and **depth-first sampling**\n",
    "(where distant neighbours are visited) by introducing the following two parameters:\n",
    "\n",
    "1. **Return parameter** (`p`): Controls the likelihood of immediately revisiting\n",
    "   a node in the walk. Setting it to a high value encourages moderate exploration,\n",
    "   while setting it to a low value would keep the walk local.\n",
    "2. **In-out parameter** (`q`): Allows the search to differentiate\n",
    "   between _inward_ and _outward_ nodes. Setting it to a high value biases the\n",
    "   random walk towards local nodes, while setting it to a low value biases the walk\n",
    "   to visit nodes which are further away.\n"
   ]
  },
  {
   "cell_type": "code",
   "execution_count": 12,
   "metadata": {
    "colab_type": "code"
   },
   "outputs": [],
   "source": [
    "\n",
    "def next_step(graph, previous, current, p, q):\n",
    "    neighbors = list(graph.neighbors(current))\n",
    "\n",
    "    weights = []\n",
    "    # Adjust the weights of the edges to the neighbors with respect to p and q.\n",
    "    for neighbor in neighbors:\n",
    "        if neighbor == previous:\n",
    "            # Control the probability to return to the previous node.\n",
    "            weights.append(graph[current][neighbor][\"weight\"] / p)\n",
    "        elif graph.has_edge(neighbor, previous):\n",
    "            # The probability of visiting a local node.\n",
    "            weights.append(graph[current][neighbor][\"weight\"])\n",
    "        else:\n",
    "            # Control the probability to move forward.\n",
    "            weights.append(graph[current][neighbor][\"weight\"] / q)\n",
    "\n",
    "    # Compute the probabilities of visiting each neighbor.\n",
    "    weight_sum = sum(weights)\n",
    "    probabilities = [weight / weight_sum for weight in weights]\n",
    "    # Probabilistically select a neighbor to visit.\n",
    "    next = np.random.choice(neighbors, size=1, p=probabilities)[0]\n",
    "    return next\n",
    "\n",
    "\n",
    "def random_walk(graph, num_walks, num_steps, p, q):\n",
    "    walks = []\n",
    "    nodes = list(graph.nodes())\n",
    "    # Perform multiple iterations of the random walk.\n",
    "    for walk_iteration in range(num_walks):\n",
    "        random.shuffle(nodes)\n",
    "\n",
    "        for node in tqdm(\n",
    "            nodes,\n",
    "            position=0,\n",
    "            leave=True,\n",
    "            desc=f\"Random walks iteration {walk_iteration + 1} of {num_walks}\",\n",
    "        ):\n",
    "            # Start the walk with a random node from the graph.\n",
    "            walk = [node]\n",
    "            # Randomly walk for num_steps.\n",
    "            while len(walk) < num_steps:\n",
    "                current = walk[-1]\n",
    "                previous = walk[-2] if len(walk) > 1 else None\n",
    "                # Compute the next node to visit.\n",
    "                next = next_step(graph, previous, current, p, q)\n",
    "                walk.append(next)\n",
    "            # Replace node ids (movie ids) in the walk with token ids.\n",
    "            walk = [vocabulary_lookup[token] for token in walk]\n",
    "            # Add the walk to the generated sequence.\n",
    "            walks.append(walk)\n",
    "\n",
    "    return walks"
   ]
  },
  {
   "cell_type": "markdown",
   "metadata": {
    "colab_type": "text"
   },
   "source": [
    "## Generate training data using the biased random walk\n",
    "\n",
    "You can explore different configurations of `p` and `q` to different results of\n",
    "related movies.\n"
   ]
  },
  {
   "cell_type": "code",
   "execution_count": 13,
   "metadata": {
    "colab_type": "code"
   },
   "outputs": [
    {
     "name": "stderr",
     "output_type": "stream",
     "text": [
      "Random walks iteration 1 of 5:   7%|▋         | 6675/92888 [13:40<2:56:33,  8.14it/s] \n"
     ]
    },
    {
     "ename": "KeyboardInterrupt",
     "evalue": "",
     "output_type": "error",
     "traceback": [
      "\u001b[0;31m---------------------------------------------------------------------------\u001b[0m",
      "\u001b[0;31mKeyboardInterrupt\u001b[0m                         Traceback (most recent call last)",
      "\u001b[1;32m/mnt/disk1/HiepNT/ds-project/recommender/node2vec_movielens.ipynb Cell 29\u001b[0m line \u001b[0;36m9\n\u001b[1;32m      <a href='vscode-notebook-cell://ssh-remote%2Baiotlab_222/mnt/disk1/HiepNT/ds-project/recommender/node2vec_movielens.ipynb#X40sdnNjb2RlLXJlbW90ZQ%3D%3D?line=6'>7</a>\u001b[0m \u001b[39m# Number of steps of each random walk.\u001b[39;00m\n\u001b[1;32m      <a href='vscode-notebook-cell://ssh-remote%2Baiotlab_222/mnt/disk1/HiepNT/ds-project/recommender/node2vec_movielens.ipynb#X40sdnNjb2RlLXJlbW90ZQ%3D%3D?line=7'>8</a>\u001b[0m num_steps \u001b[39m=\u001b[39m \u001b[39m10\u001b[39m\n\u001b[0;32m----> <a href='vscode-notebook-cell://ssh-remote%2Baiotlab_222/mnt/disk1/HiepNT/ds-project/recommender/node2vec_movielens.ipynb#X40sdnNjb2RlLXJlbW90ZQ%3D%3D?line=8'>9</a>\u001b[0m walks \u001b[39m=\u001b[39m random_walk(movies_graph, num_walks, num_steps, p, q)\n\u001b[1;32m     <a href='vscode-notebook-cell://ssh-remote%2Baiotlab_222/mnt/disk1/HiepNT/ds-project/recommender/node2vec_movielens.ipynb#X40sdnNjb2RlLXJlbW90ZQ%3D%3D?line=10'>11</a>\u001b[0m \u001b[39mprint\u001b[39m(\u001b[39m\"\u001b[39m\u001b[39mNumber of walks generated:\u001b[39m\u001b[39m\"\u001b[39m, \u001b[39mlen\u001b[39m(walks))\n",
      "\u001b[1;32m/mnt/disk1/HiepNT/ds-project/recommender/node2vec_movielens.ipynb Cell 29\u001b[0m line \u001b[0;36m4\n\u001b[1;32m     <a href='vscode-notebook-cell://ssh-remote%2Baiotlab_222/mnt/disk1/HiepNT/ds-project/recommender/node2vec_movielens.ipynb#X40sdnNjb2RlLXJlbW90ZQ%3D%3D?line=42'>43</a>\u001b[0m     previous \u001b[39m=\u001b[39m walk[\u001b[39m-\u001b[39m\u001b[39m2\u001b[39m] \u001b[39mif\u001b[39;00m \u001b[39mlen\u001b[39m(walk) \u001b[39m>\u001b[39m \u001b[39m1\u001b[39m \u001b[39melse\u001b[39;00m \u001b[39mNone\u001b[39;00m\n\u001b[1;32m     <a href='vscode-notebook-cell://ssh-remote%2Baiotlab_222/mnt/disk1/HiepNT/ds-project/recommender/node2vec_movielens.ipynb#X40sdnNjb2RlLXJlbW90ZQ%3D%3D?line=43'>44</a>\u001b[0m     \u001b[39m# Compute the next node to visit.\u001b[39;00m\n\u001b[0;32m---> <a href='vscode-notebook-cell://ssh-remote%2Baiotlab_222/mnt/disk1/HiepNT/ds-project/recommender/node2vec_movielens.ipynb#X40sdnNjb2RlLXJlbW90ZQ%3D%3D?line=44'>45</a>\u001b[0m     \u001b[39mnext\u001b[39m \u001b[39m=\u001b[39m next_step(graph, previous, current, p, q)\n\u001b[1;32m     <a href='vscode-notebook-cell://ssh-remote%2Baiotlab_222/mnt/disk1/HiepNT/ds-project/recommender/node2vec_movielens.ipynb#X40sdnNjb2RlLXJlbW90ZQ%3D%3D?line=45'>46</a>\u001b[0m     walk\u001b[39m.\u001b[39mappend(\u001b[39mnext\u001b[39m)\n\u001b[1;32m     <a href='vscode-notebook-cell://ssh-remote%2Baiotlab_222/mnt/disk1/HiepNT/ds-project/recommender/node2vec_movielens.ipynb#X40sdnNjb2RlLXJlbW90ZQ%3D%3D?line=46'>47</a>\u001b[0m \u001b[39m# Replace node ids (movie ids) in the walk with token ids.\u001b[39;00m\n",
      "\u001b[1;32m/mnt/disk1/HiepNT/ds-project/recommender/node2vec_movielens.ipynb Cell 29\u001b[0m line \u001b[0;36m6\n\u001b[1;32m      <a href='vscode-notebook-cell://ssh-remote%2Baiotlab_222/mnt/disk1/HiepNT/ds-project/recommender/node2vec_movielens.ipynb#X40sdnNjb2RlLXJlbW90ZQ%3D%3D?line=3'>4</a>\u001b[0m weights \u001b[39m=\u001b[39m []\n\u001b[1;32m      <a href='vscode-notebook-cell://ssh-remote%2Baiotlab_222/mnt/disk1/HiepNT/ds-project/recommender/node2vec_movielens.ipynb#X40sdnNjb2RlLXJlbW90ZQ%3D%3D?line=4'>5</a>\u001b[0m \u001b[39m# Adjust the weights of the edges to the neighbors with respect to p and q.\u001b[39;00m\n\u001b[0;32m----> <a href='vscode-notebook-cell://ssh-remote%2Baiotlab_222/mnt/disk1/HiepNT/ds-project/recommender/node2vec_movielens.ipynb#X40sdnNjb2RlLXJlbW90ZQ%3D%3D?line=5'>6</a>\u001b[0m \u001b[39mfor\u001b[39;00m neighbor \u001b[39min\u001b[39;00m neighbors:\n\u001b[1;32m      <a href='vscode-notebook-cell://ssh-remote%2Baiotlab_222/mnt/disk1/HiepNT/ds-project/recommender/node2vec_movielens.ipynb#X40sdnNjb2RlLXJlbW90ZQ%3D%3D?line=6'>7</a>\u001b[0m     \u001b[39mif\u001b[39;00m neighbor \u001b[39m==\u001b[39m previous:\n\u001b[1;32m      <a href='vscode-notebook-cell://ssh-remote%2Baiotlab_222/mnt/disk1/HiepNT/ds-project/recommender/node2vec_movielens.ipynb#X40sdnNjb2RlLXJlbW90ZQ%3D%3D?line=7'>8</a>\u001b[0m         \u001b[39m# Control the probability to return to the previous node.\u001b[39;00m\n\u001b[1;32m      <a href='vscode-notebook-cell://ssh-remote%2Baiotlab_222/mnt/disk1/HiepNT/ds-project/recommender/node2vec_movielens.ipynb#X40sdnNjb2RlLXJlbW90ZQ%3D%3D?line=8'>9</a>\u001b[0m         weights\u001b[39m.\u001b[39mappend(graph[current][neighbor][\u001b[39m\"\u001b[39m\u001b[39mweight\u001b[39m\u001b[39m\"\u001b[39m] \u001b[39m/\u001b[39m p)\n",
      "\u001b[0;31mKeyboardInterrupt\u001b[0m: "
     ]
    }
   ],
   "source": [
    "# Random walk return parameter.\n",
    "p = 1\n",
    "# Random walk in-out parameter.\n",
    "q = 1\n",
    "# Number of iterations of random walks.\n",
    "num_walks = 5\n",
    "# Number of steps of each random walk.\n",
    "num_steps = 10\n",
    "walks = random_walk(movies_graph, num_walks, num_steps, p, q)\n",
    "\n",
    "print(\"Number of walks generated:\", len(walks))"
   ]
  },
  {
   "cell_type": "markdown",
   "metadata": {
    "colab_type": "text"
   },
   "source": [
    "## Generate positive and negative examples\n",
    "\n",
    "To train a skip-gram model, we use the generated walks to create positive and\n",
    "negative training examples. Each example includes the following features:\n",
    "\n",
    "1. `target`: A movie in a walk sequence.\n",
    "2. `context`: Another movie in a walk sequence.\n",
    "3. `weight`: How many times these two movies occured in walk sequences.\n",
    "4. `label`: The label is 1 if these two movies are samples from the walk sequences,\n",
    "   otherwise (i.e., if randomly sampled) the label is 0.\n"
   ]
  },
  {
   "cell_type": "markdown",
   "metadata": {
    "colab_type": "text"
   },
   "source": [
    "### Generate examples\n"
   ]
  },
  {
   "cell_type": "code",
   "execution_count": null,
   "metadata": {
    "colab_type": "code"
   },
   "outputs": [
    {
     "name": "stderr",
     "output_type": "stream",
     "text": [
      "Generating postive and negative examples: 100%|██████████| 7025/7025 [00:19<00:00, 353.41it/s]\n"
     ]
    }
   ],
   "source": [
    "\n",
    "def generate_examples(sequences, window_size, num_negative_samples, vocabulary_size):\n",
    "    example_weights = defaultdict(int)\n",
    "    # Iterate over all sequences (walks).\n",
    "    for sequence in tqdm(\n",
    "        sequences,\n",
    "        position=0,\n",
    "        leave=True,\n",
    "        desc=f\"Generating postive and negative examples\",\n",
    "    ):\n",
    "        # Generate positive and negative skip-gram pairs for a sequence (walk).\n",
    "        pairs, labels = keras.preprocessing.sequence.skipgrams(\n",
    "            sequence,\n",
    "            vocabulary_size=vocabulary_size,\n",
    "            window_size=window_size,\n",
    "            negative_samples=num_negative_samples,\n",
    "        )\n",
    "        for idx in range(len(pairs)):\n",
    "            pair = pairs[idx]\n",
    "            label = labels[idx]\n",
    "            target, context = min(pair[0], pair[1]), max(pair[0], pair[1])\n",
    "            if target == context:\n",
    "                continue\n",
    "            entry = (target, context, label)\n",
    "            example_weights[entry] += 1\n",
    "\n",
    "    targets, contexts, labels, weights = [], [], [], []\n",
    "    for entry in example_weights:\n",
    "        weight = example_weights[entry]\n",
    "        target, context, label = entry\n",
    "        targets.append(target)\n",
    "        contexts.append(context)\n",
    "        labels.append(label)\n",
    "        weights.append(weight)\n",
    "\n",
    "    return np.array(targets), np.array(contexts), np.array(labels), np.array(weights)\n",
    "\n",
    "\n",
    "num_negative_samples = 4\n",
    "targets, contexts, labels, weights = generate_examples(\n",
    "    sequences=walks,\n",
    "    window_size=num_steps,\n",
    "    num_negative_samples=num_negative_samples,\n",
    "    vocabulary_size=len(vocabulary),\n",
    ")"
   ]
  },
  {
   "cell_type": "markdown",
   "metadata": {
    "colab_type": "text"
   },
   "source": [
    "Let's display the shapes of the outputs\n"
   ]
  },
  {
   "cell_type": "code",
   "execution_count": null,
   "metadata": {
    "colab_type": "code"
   },
   "outputs": [
    {
     "name": "stdout",
     "output_type": "stream",
     "text": [
      "Targets shape: (883569,)\n",
      "Contexts shape: (883569,)\n",
      "Labels shape: (883569,)\n",
      "Weights shape: (883569,)\n"
     ]
    }
   ],
   "source": [
    "print(f\"Targets shape: {targets.shape}\")\n",
    "print(f\"Contexts shape: {contexts.shape}\")\n",
    "print(f\"Labels shape: {labels.shape}\")\n",
    "print(f\"Weights shape: {weights.shape}\")"
   ]
  },
  {
   "cell_type": "markdown",
   "metadata": {
    "colab_type": "text"
   },
   "source": [
    "### Convert the data into `tf.data.Dataset` objects\n"
   ]
  },
  {
   "cell_type": "code",
   "execution_count": null,
   "metadata": {
    "colab_type": "code"
   },
   "outputs": [
    {
     "name": "stderr",
     "output_type": "stream",
     "text": [
      "2023-10-27 20:55:29.193311: I tensorflow/core/common_runtime/process_util.cc:146] Creating new thread pool with default inter op setting: 2. Tune using inter_op_parallelism_threads for best performance.\n"
     ]
    }
   ],
   "source": [
    "batch_size = 1024\n",
    "\n",
    "\n",
    "def create_dataset(targets, contexts, labels, weights, batch_size):\n",
    "    inputs = {\n",
    "        \"target\": targets,\n",
    "        \"context\": contexts,\n",
    "    }\n",
    "    dataset = tf.data.Dataset.from_tensor_slices((inputs, labels, weights))\n",
    "    dataset = dataset.shuffle(buffer_size=batch_size * 2)\n",
    "    dataset = dataset.batch(batch_size, drop_remainder=True)\n",
    "    dataset = dataset.prefetch(tf.data.AUTOTUNE)\n",
    "    return dataset\n",
    "\n",
    "\n",
    "dataset = create_dataset(\n",
    "    targets=targets,\n",
    "    contexts=contexts,\n",
    "    labels=labels,\n",
    "    weights=weights,\n",
    "    batch_size=batch_size,\n",
    ")"
   ]
  },
  {
   "cell_type": "markdown",
   "metadata": {
    "colab_type": "text"
   },
   "source": [
    "## Train the skip-gram model\n",
    "\n",
    "Our skip-gram is a simple binary classification model that works as follows:\n",
    "\n",
    "1. An embedding is looked up for the `target` movie.\n",
    "2. An embedding is looked up for the `context` movie.\n",
    "3. The dot product is computed between these two embeddings.\n",
    "4. The result (after a sigmoid activation) is compared to the label.\n",
    "5. A binary crossentropy loss is used.\n"
   ]
  },
  {
   "cell_type": "code",
   "execution_count": null,
   "metadata": {
    "colab_type": "code"
   },
   "outputs": [],
   "source": [
    "learning_rate = 0.001\n",
    "embedding_dim = 50\n",
    "num_epochs = 10"
   ]
  },
  {
   "cell_type": "markdown",
   "metadata": {
    "colab_type": "text"
   },
   "source": [
    "### Implement the model\n"
   ]
  },
  {
   "cell_type": "code",
   "execution_count": null,
   "metadata": {
    "colab_type": "code"
   },
   "outputs": [],
   "source": [
    "\n",
    "def create_model(vocabulary_size, embedding_dim):\n",
    "\n",
    "    inputs = {\n",
    "        \"target\": layers.Input(name=\"target\", shape=(), dtype=\"int32\"),\n",
    "        \"context\": layers.Input(name=\"context\", shape=(), dtype=\"int32\"),\n",
    "    }\n",
    "    # Initialize item embeddings.\n",
    "    embed_item = layers.Embedding(\n",
    "        input_dim=vocabulary_size,\n",
    "        output_dim=embedding_dim,\n",
    "        embeddings_initializer=\"he_normal\",\n",
    "        embeddings_regularizer=keras.regularizers.l2(1e-6),\n",
    "        name=\"item_embeddings\",\n",
    "    )\n",
    "    # Lookup embeddings for target.\n",
    "    target_embeddings = embed_item(inputs[\"target\"])\n",
    "    # Lookup embeddings for context.\n",
    "    context_embeddings = embed_item(inputs[\"context\"])\n",
    "    # Compute dot similarity between target and context embeddings.\n",
    "    logits = layers.Dot(axes=1, normalize=False, name=\"dot_similarity\")(\n",
    "        [target_embeddings, context_embeddings]\n",
    "    )\n",
    "    # Create the model.\n",
    "    model = keras.Model(inputs=inputs, outputs=logits)\n",
    "    return model"
   ]
  },
  {
   "cell_type": "markdown",
   "metadata": {
    "colab_type": "text"
   },
   "source": [
    "### Train the model\n"
   ]
  },
  {
   "cell_type": "markdown",
   "metadata": {
    "colab_type": "text"
   },
   "source": [
    "We instantiate the model and compile it.\n"
   ]
  },
  {
   "cell_type": "code",
   "execution_count": null,
   "metadata": {
    "colab_type": "code"
   },
   "outputs": [],
   "source": [
    "model = create_model(len(vocabulary), embedding_dim)\n",
    "model.compile(\n",
    "    optimizer=keras.optimizers.Adam(learning_rate),\n",
    "    loss=keras.losses.BinaryCrossentropy(from_logits=True),\n",
    ")"
   ]
  },
  {
   "cell_type": "markdown",
   "metadata": {
    "colab_type": "text"
   },
   "source": [
    "Let's plot the model.\n"
   ]
  },
  {
   "cell_type": "code",
   "execution_count": null,
   "metadata": {
    "colab_type": "code"
   },
   "outputs": [
    {
     "data": {
      "image/png": "[encoded data removed]",
      "text/plain": [
       "<IPython.core.display.Image object>"
      ]
     },
     "execution_count": 20,
     "metadata": {},
     "output_type": "execute_result"
    }
   ],
   "source": [
    "keras.utils.plot_model(\n",
    "    model,\n",
    "    show_shapes=True,\n",
    "    show_dtype=True,\n",
    "    show_layer_names=True,\n",
    ")"
   ]
  },
  {
   "cell_type": "markdown",
   "metadata": {
    "colab_type": "text"
   },
   "source": [
    "Now we train the model on the `dataset`.\n"
   ]
  },
  {
   "cell_type": "code",
   "execution_count": null,
   "metadata": {
    "colab_type": "code"
   },
   "outputs": [
    {
     "name": "stdout",
     "output_type": "stream",
     "text": [
      "Epoch 1/10\n"
     ]
    },
    {
     "name": "stderr",
     "output_type": "stream",
     "text": [
      "2023-10-27 20:55:30.169839: I tensorflow/core/common_runtime/executor.cc:1197] [/device:CPU:0] (DEBUG INFO) Executor start aborting (this does not indicate an error and you can ignore this message): INVALID_ARGUMENT: You must feed a value for placeholder tensor 'Placeholder/_3' with dtype int64 and shape [883569]\n",
      "\t [[{{node Placeholder/_3}}]]\n",
      "2023-10-27 20:55:30.172990: I tensorflow/core/common_runtime/executor.cc:1197] [/device:CPU:0] (DEBUG INFO) Executor start aborting (this does not indicate an error and you can ignore this message): INVALID_ARGUMENT: You must feed a value for placeholder tensor 'Placeholder/_3' with dtype int64 and shape [883569]\n",
      "\t [[{{node Placeholder/_3}}]]\n"
     ]
    },
    {
     "name": "stdout",
     "output_type": "stream",
     "text": [
      "862/862 [==============================] - 34s 37ms/step - loss: 2.4440\n",
      "Epoch 2/10\n",
      "862/862 [==============================] - 33s 38ms/step - loss: 2.3357\n",
      "Epoch 3/10\n",
      "862/862 [==============================] - 25s 29ms/step - loss: 2.3285\n",
      "Epoch 4/10\n",
      "862/862 [==============================] - 23s 27ms/step - loss: 2.3246\n",
      "Epoch 5/10\n",
      "862/862 [==============================] - 31s 36ms/step - loss: 2.3200\n",
      "Epoch 6/10\n",
      "862/862 [==============================] - 25s 29ms/step - loss: 2.3154\n",
      "Epoch 7/10\n",
      "862/862 [==============================] - 36s 42ms/step - loss: 2.3119\n",
      "Epoch 8/10\n",
      "862/862 [==============================] - 32s 38ms/step - loss: 2.3093\n",
      "Epoch 9/10\n",
      "862/862 [==============================] - 40s 46ms/step - loss: 2.3069\n",
      "Epoch 10/10\n",
      "862/862 [==============================] - 35s 41ms/step - loss: 2.3043\n"
     ]
    }
   ],
   "source": [
    "history = model.fit(dataset, epochs=num_epochs)"
   ]
  },
  {
   "cell_type": "markdown",
   "metadata": {
    "colab_type": "text"
   },
   "source": [
    "Finally we plot the learning history.\n"
   ]
  },
  {
   "cell_type": "code",
   "execution_count": null,
   "metadata": {
    "colab_type": "code"
   },
   "outputs": [
    {
     "data": {
      "image/png": "[encoded data removed]",
      "text/plain": [
       "<Figure size 640x480 with 1 Axes>"
      ]
     },
     "metadata": {},
     "output_type": "display_data"
    }
   ],
   "source": [
    "plt.plot(history.history[\"loss\"])\n",
    "plt.ylabel(\"loss\")\n",
    "plt.xlabel(\"epoch\")\n",
    "plt.show()"
   ]
  },
  {
   "cell_type": "markdown",
   "metadata": {
    "colab_type": "text"
   },
   "source": [
    "## Analyze the learnt embeddings.\n"
   ]
  },
  {
   "cell_type": "code",
   "execution_count": null,
   "metadata": {
    "colab_type": "code"
   },
   "outputs": [
    {
     "name": "stdout",
     "output_type": "stream",
     "text": [
      "Embeddings shape: (1406, 50)\n"
     ]
    }
   ],
   "source": [
    "movie_embeddings = model.get_layer(\"item_embeddings\").get_weights()[0]\n",
    "print(\"Embeddings shape:\", movie_embeddings.shape)"
   ]
  },
  {
   "cell_type": "markdown",
   "metadata": {
    "colab_type": "text"
   },
   "source": [
    "### Find related movies\n",
    "\n",
    "Define a list with some movies called `query_movies`.\n"
   ]
  },
  {
   "cell_type": "code",
   "execution_count": null,
   "metadata": {
    "colab_type": "code"
   },
   "outputs": [],
   "source": [
    "query_movies = [\n",
    "    # \"Matrix, The (1999)\",\n",
    "    # \"Star Wars: Episode IV - A New Hope (1977)\",\n",
    "    # \"Lion King, The (1994)\",\n",
    "    # \"Terminator 2: Judgment Day (1991)\",\n",
    "    # \"Godfather, The (1972)\",\n",
    "    # \"Avengers: Infinity War - Part I (2018)\"\n",
    "    # \"Untitled Spider-Man Reboot (2017)\"\n",
    "    \"Avengers: Endgame\"\n",
    "]"
   ]
  },
  {
   "cell_type": "markdown",
   "metadata": {
    "colab_type": "text"
   },
   "source": [
    "Get the embeddings of the movies in `query_movies`.\n"
   ]
  },
  {
   "cell_type": "code",
   "execution_count": null,
   "metadata": {
    "colab_type": "code"
   },
   "outputs": [],
   "source": [
    "query_embeddings = []\n",
    "\n",
    "for movie_title in query_movies:\n",
    "    movieId = get_movie_id_by_title(movie_title)\n",
    "    token_id = vocabulary_lookup[movieId]\n",
    "    movie_embedding = movie_embeddings[token_id]\n",
    "    query_embeddings.append(movie_embedding)\n",
    "\n",
    "query_embeddings = np.array(query_embeddings)"
   ]
  },
  {
   "cell_type": "markdown",
   "metadata": {
    "colab_type": "text"
   },
   "source": [
    "Compute the [consine similarity](https://en.wikipedia.org/wiki/Cosine_similarity) between the embeddings of `query_movies`\n",
    "and all the other movies, then pick the top k for each.\n"
   ]
  },
  {
   "cell_type": "code",
   "execution_count": null,
   "metadata": {
    "colab_type": "code"
   },
   "outputs": [],
   "source": [
    "similarities = tf.linalg.matmul(\n",
    "    tf.math.l2_normalize(query_embeddings),\n",
    "    tf.math.l2_normalize(movie_embeddings),\n",
    "    transpose_b=True,\n",
    ")\n",
    "\n",
    "_, indices = tf.math.top_k(similarities, k=5)\n",
    "indices = indices.numpy().tolist()"
   ]
  },
  {
   "cell_type": "markdown",
   "metadata": {
    "colab_type": "text"
   },
   "source": [
    "Display the top related movies in `query_movies`.\n"
   ]
  },
  {
   "cell_type": "code",
   "execution_count": null,
   "metadata": {
    "colab_type": "code"
   },
   "outputs": [
    {
     "name": "stdout",
     "output_type": "stream",
     "text": [
      "Guardians of the Galaxy (2014)\n",
      "------------------------------\n",
      "- Guardians of the Galaxy (2014)\n",
      "- Dark Knight, The (2008)\n",
      "- District 9 (2009)\n",
      "- Inception (2010)\n",
      "- Lord of the Rings: The Return of the King, The (2003)\n",
      "\n"
     ]
    }
   ],
   "source": [
    "for idx, title in enumerate(query_movies):\n",
    "    print(title)\n",
    "    print(\"\".rjust(len(title), \"-\"))\n",
    "    similar_tokens = indices[idx]\n",
    "    for token in similar_tokens:\n",
    "        similar_movieId = vocabulary[token]\n",
    "        similar_title = get_movie_title_by_id(similar_movieId)\n",
    "        print(f\"- {similar_title}\")\n",
    "    print()"
   ]
  },
  {
   "cell_type": "markdown",
   "metadata": {
    "colab_type": "text"
   },
   "source": [
    "### Visualize the embeddings using the Embedding Projector\n"
   ]
  },
  {
   "cell_type": "code",
   "execution_count": null,
   "metadata": {
    "colab_type": "code"
   },
   "outputs": [],
   "source": [
    "import io\n",
    "\n",
    "out_v = io.open(\"embeddings.tsv\", \"w\", encoding=\"utf-8\")\n",
    "out_m = io.open(\"metadata.tsv\", \"w\", encoding=\"utf-8\")\n",
    "\n",
    "for idx, movie_id in enumerate(vocabulary[1:]):\n",
    "    movie_title = list(movies[movies.movieId == movie_id].title)[0]\n",
    "    vector = movie_embeddings[idx]\n",
    "    out_v.write(\"\\t\".join([str(x) for x in vector]) + \"\\n\")\n",
    "    out_m.write(movie_title + \"\\n\")\n",
    "\n",
    "out_v.close()\n",
    "out_m.close()"
   ]
  },
  {
   "cell_type": "markdown",
   "metadata": {
    "colab_type": "text"
   },
   "source": [
    "Download the `embeddings.tsv` and `metadata.tsv` to analyze the obtained embeddings\n",
    "in the [Embedding Projector](https://projector.tensorflow.org/).\n"
   ]
  },
  {
   "cell_type": "markdown",
   "metadata": {
    "colab_type": "text"
   },
   "source": [
    "**Example available on HuggingFace**\n",
    "\n",
    "|                                                                         Trained Model                                                                          |                                                                                Demo                                                                                 |\n",
    "| :------------------------------------------------------------------------------------------------------------------------------------------------------------: | :-----------------------------------------------------------------------------------------------------------------------------------------------------------------: |\n",
    "| [![Generic badge](https://img.shields.io/badge/%F0%9F%A4%97%20Model%3A%20-Node2Vec%20Movielens-black.svg)](https://huggingface.co/keras-io/Node2Vec_MovieLens) | [![Generic badge](https://img.shields.io/badge/%F0%9F%A4%97%20Spaces%3A-Node2Vec%20Movielens-black.svg)](https://huggingface.co/spaces/keras-io/Node2Vec_MovieLens) |\n"
   ]
  }
 ],
 "metadata": {
  "accelerator": "GPU",
  "colab": {
   "collapsed_sections": [],
   "name": "node2vec_movielens",
   "private_outputs": false,
   "provenance": [],
   "toc_visible": true
  },
  "kernelspec": {
   "display_name": "Python 3",
   "language": "python",
   "name": "python3"
  },
  "language_info": {
   "codemirror_mode": {
    "name": "ipython",
    "version": 3
   },
   "file_extension": ".py",
   "mimetype": "text/x-python",
   "name": "python",
   "nbconvert_exporter": "python",
   "pygments_lexer": "ipython3",
   "version": "3.9.16"
  }
 },
 "nbformat": 4,
 "nbformat_minor": 0
}
